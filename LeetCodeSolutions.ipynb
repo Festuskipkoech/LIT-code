{
  "nbformat": 4,
  "nbformat_minor": 0,
  "metadata": {
    "colab": {
      "provenance": [],
      "authorship_tag": "ABX9TyOjKOqSGywE3t0YvbuDgdLC",
      "include_colab_link": true
    },
    "kernelspec": {
      "name": "python3",
      "display_name": "Python 3"
    },
    "language_info": {
      "name": "python"
    }
  },
  "cells": [
    {
      "cell_type": "markdown",
      "metadata": {
        "id": "view-in-github",
        "colab_type": "text"
      },
      "source": [
        "<a href=\"https://colab.research.google.com/github/Festuskipkoech/LIT-code/blob/main/LeetCodeSolutions.ipynb\" target=\"_parent\"><img src=\"https://colab.research.google.com/assets/colab-badge.svg\" alt=\"Open In Colab\"/></a>"
      ]
    },
    {
      "cell_type": "markdown",
      "source": [
        "## Problem 1: Max Candies After Extra Candies\n",
        "\n",
        "### Problem Statement:\n",
        "You are given an integer array `candies`, where each `candies[i]` represents the number of candies the ith kid has, and an integer `extraCandies`, denoting the number of extra candies that you have. The goal is to determine whether, after giving the ith kid all the `extraCandies`, they will have the greatest number of candies among all the kids.\n",
        "\n",
        "### Approach:\n",
        "1. Find the maximum number of candies any kid has using `max(candies)`.\n",
        "2. For each kid, check if their number of candies plus `extraCandies` is greater than or equal to the maximum.\n",
        "3. If the condition holds, return `True` for that kid, otherwise return `False`.\n",
        "\n",
        "### Example 1:\n",
        "**Input:**\n",
        "```python\n",
        "candies = [2, 3, 5, 1, 3]\n",
        "extraCandies = 3\n"
      ],
      "metadata": {
        "id": "4idVFSnFJP1b"
      }
    },
    {
      "cell_type": "code",
      "execution_count": 5,
      "metadata": {
        "colab": {
          "base_uri": "https://localhost:8080/"
        },
        "id": "AbPiArs98I7Q",
        "outputId": "ef64c705-228f-4555-e7c9-27368789f69f"
      },
      "outputs": [
        {
          "output_type": "stream",
          "name": "stdout",
          "text": [
            "[True, True, True, True]\n"
          ]
        }
      ],
      "source": [
        "def gnc(candies, extra):\n",
        "  max_candies=max(candies)\n",
        "  result = [(candy + extra >= max_candies) for candy in candies]\n",
        "\n",
        "  return result\n",
        "candies1 = [3,8,5,3]\n",
        "extra1=5\n",
        "\n",
        "print(gnc(candies1, extra1))\n"
      ]
    },
    {
      "cell_type": "markdown",
      "source": [
        "## Problem 2: Can We Plant Flowers Without Adjacent Flowers?\n",
        "\n",
        "### Problem Statement:\n",
        "You are given an integer array `flowerbed`, where each element represents whether a flower is planted (1) or not (0) at that spot. You are also given an integer `n`, which denotes the number of new flowers you want to plant. The task is to check if it's possible to plant `n` new flowers in the `flowerbed` without violating the \"no adjacent flowers\" rule.\n",
        "\n",
        "### Approach:\n",
        "1. Loop through the `flowerbed` array.\n",
        "2. For each empty spot (`0`), check if it's safe to plant a flower there:\n",
        "   - The previous spot (if not out of bounds) should be empty.\n",
        "   - The next spot (if not out of bounds) should also be empty.\n",
        "3. If it’s possible to plant a flower, mark that spot and increment the count of planted flowers.\n",
        "4. Return `True` if we can plant at least `n` flowers, otherwise `False`.\n",
        "\n",
        "### Example 1:\n",
        "**Input:**\n",
        "```python\n",
        "flowerbed = [1, 0, 0, 0, 1]\n",
        "n = 1\n"
      ],
      "metadata": {
        "id": "Ig7c2ED4J4Xk"
      }
    },
    {
      "cell_type": "code",
      "source": [
        "def flowerRow(flowerBed, n):\n",
        "  count = 0\n",
        "  length=len(flowerBed)\n",
        "  for i in range(length):\n",
        "    if flowerBed[i] ==0:\n",
        "      left_empty = (i ==0 or flowerBed[i - 1] == 0)\n",
        "      right_empty = (i == length - 1 or flowerBed[i + 1] == 0)\n",
        "\n",
        "      if left_empty and right_empty:\n",
        "        flowerBed[i] = 1\n",
        "        count +=1\n",
        "\n",
        "        if count >= n:\n",
        "          return True\n",
        "  return count >= n\n",
        "\n",
        "n1=1\n",
        "flowerBed1= [1, 0, 0, 1, 0, 0, 0, 1, 0, 1]\n",
        "print(flowerRow(flowerBed1, n1))\n",
        "\n"
      ],
      "metadata": {
        "colab": {
          "base_uri": "https://localhost:8080/"
        },
        "id": "Q0nq5vQMCyK3",
        "outputId": "981c1596-9acb-4b7a-f015-92e597807177"
      },
      "execution_count": 10,
      "outputs": [
        {
          "output_type": "stream",
          "name": "stdout",
          "text": [
            "True\n"
          ]
        }
      ]
    }
  ]
}