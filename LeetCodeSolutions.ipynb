{
  "nbformat": 4,
  "nbformat_minor": 0,
  "metadata": {
    "colab": {
      "provenance": [],
      "authorship_tag": "ABX9TyOPRPgBRjWDdEvjdjUR9VMm",
      "include_colab_link": true
    },
    "kernelspec": {
      "name": "python3",
      "display_name": "Python 3"
    },
    "language_info": {
      "name": "python"
    }
  },
  "cells": [
    {
      "cell_type": "markdown",
      "metadata": {
        "id": "view-in-github",
        "colab_type": "text"
      },
      "source": [
        "<a href=\"https://colab.research.google.com/github/Festuskipkoech/LIT-code/blob/main/LeetCodeSolutions.ipynb\" target=\"_parent\"><img src=\"https://colab.research.google.com/assets/colab-badge.svg\" alt=\"Open In Colab\"/></a>"
      ]
    },
    {
      "cell_type": "code",
      "execution_count": 5,
      "metadata": {
        "colab": {
          "base_uri": "https://localhost:8080/"
        },
        "id": "AbPiArs98I7Q",
        "outputId": "ef64c705-228f-4555-e7c9-27368789f69f"
      },
      "outputs": [
        {
          "output_type": "stream",
          "name": "stdout",
          "text": [
            "[True, True, True, True]\n"
          ]
        }
      ],
      "source": [
        "def gnc(candies, extra):\n",
        "  max_candies=max(candies)\n",
        "  result = [(candy + extra >= max_candies) for candy in candies]\n",
        "\n",
        "  return result\n",
        "candies1 = [3,8,5,3]\n",
        "extra1=5\n",
        "\n",
        "print(gnc(candies1, extra1))\n"
      ]
    }
  ]
}