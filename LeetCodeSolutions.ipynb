{
  "nbformat": 4,
  "nbformat_minor": 0,
  "metadata": {
    "colab": {
      "provenance": [],
      "authorship_tag": "ABX9TyMzU1ckG5O167TIdJZvv1dx",
      "include_colab_link": true
    },
    "kernelspec": {
      "name": "python3",
      "display_name": "Python 3"
    },
    "language_info": {
      "name": "python"
    }
  },
  "cells": [
    {
      "cell_type": "markdown",
      "metadata": {
        "id": "view-in-github",
        "colab_type": "text"
      },
      "source": [
        "<a href=\"https://colab.research.google.com/github/Festuskipkoech/LIT-code/blob/main/LeetCodeSolutions.ipynb\" target=\"_parent\"><img src=\"https://colab.research.google.com/assets/colab-badge.svg\" alt=\"Open In Colab\"/></a>"
      ]
    },
    {
      "cell_type": "code",
      "execution_count": 5,
      "metadata": {
        "colab": {
          "base_uri": "https://localhost:8080/"
        },
        "id": "AbPiArs98I7Q",
        "outputId": "ef64c705-228f-4555-e7c9-27368789f69f"
      },
      "outputs": [
        {
          "output_type": "stream",
          "name": "stdout",
          "text": [
            "[True, True, True, True]\n"
          ]
        }
      ],
      "source": [
        "def gnc(candies, extra):\n",
        "  max_candies=max(candies)\n",
        "  result = [(candy + extra >= max_candies) for candy in candies]\n",
        "\n",
        "  return result\n",
        "candies1 = [3,8,5,3]\n",
        "extra1=5\n",
        "\n",
        "print(gnc(candies1, extra1))\n"
      ]
    },
    {
      "cell_type": "code",
      "source": [
        "def flowerRow(flowerBed, n):\n",
        "  count = 0\n",
        "  length=len(flowerBed)\n",
        "  for i in range(length):\n",
        "    if flowerBed[i] ==0:\n",
        "      left_empty = (i ==0 or flowerBed[i - 1] == 0)\n",
        "      right_empty = (i == length - 1 or flowerBed[i + 1] == 0)\n",
        "\n",
        "      if left_empty and right_empty:\n",
        "        flowerBed[i] = 1\n",
        "        count +=1\n",
        "\n",
        "        if count >= n:\n",
        "          return True\n",
        "  return count >= n\n",
        "\n",
        "n1=1\n",
        "flowerBed1= [1, 0, 0, 1, 0, 0, 0, 1, 0, 1]\n",
        "print(flowerRow(flowerBed1, n1))\n",
        "\n"
      ],
      "metadata": {
        "colab": {
          "base_uri": "https://localhost:8080/"
        },
        "id": "Q0nq5vQMCyK3",
        "outputId": "981c1596-9acb-4b7a-f015-92e597807177"
      },
      "execution_count": 10,
      "outputs": [
        {
          "output_type": "stream",
          "name": "stdout",
          "text": [
            "True\n"
          ]
        }
      ]
    }
  ]
}